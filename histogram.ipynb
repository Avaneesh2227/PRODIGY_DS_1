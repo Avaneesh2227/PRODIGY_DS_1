{
 "cells": [
  {
   "cell_type": "code",
   "execution_count": 85,
   "id": "4667dbd4-c81b-488f-8513-8bcf54cb276e",
   "metadata": {},
   "outputs": [],
   "source": [
    "import pandas as pd\n",
    "from matplotlib import pyplot as plt\n",
    "from collections import Counter\n",
    "import numpy as np"
   ]
  },
  {
   "cell_type": "code",
   "execution_count": 4,
   "id": "a892b737-5b18-482a-af0e-69624fbfa486",
   "metadata": {},
   "outputs": [
    {
     "data": {
      "text/html": [
       "<div>\n",
       "<style scoped>\n",
       "    .dataframe tbody tr th:only-of-type {\n",
       "        vertical-align: middle;\n",
       "    }\n",
       "\n",
       "    .dataframe tbody tr th {\n",
       "        vertical-align: top;\n",
       "    }\n",
       "\n",
       "    .dataframe thead th {\n",
       "        text-align: right;\n",
       "    }\n",
       "</style>\n",
       "<table border=\"1\" class=\"dataframe\">\n",
       "  <thead>\n",
       "    <tr style=\"text-align: right;\">\n",
       "      <th></th>\n",
       "      <th>id</th>\n",
       "      <th>name</th>\n",
       "      <th>species</th>\n",
       "      <th>gender</th>\n",
       "      <th>height</th>\n",
       "      <th>weight</th>\n",
       "      <th>hair_color</th>\n",
       "      <th>eye_color</th>\n",
       "      <th>skin_color</th>\n",
       "      <th>year_born</th>\n",
       "      <th>homeworld</th>\n",
       "      <th>year_died</th>\n",
       "      <th>description</th>\n",
       "    </tr>\n",
       "  </thead>\n",
       "  <tbody>\n",
       "    <tr>\n",
       "      <th>0</th>\n",
       "      <td>1</td>\n",
       "      <td>Luke Skywalker</td>\n",
       "      <td>Human</td>\n",
       "      <td>Male</td>\n",
       "      <td>1.72</td>\n",
       "      <td>77.0</td>\n",
       "      <td>Blond</td>\n",
       "      <td>Blue</td>\n",
       "      <td>Light</td>\n",
       "      <td>19.0</td>\n",
       "      <td>Tatooine</td>\n",
       "      <td>34.0</td>\n",
       "      <td>The main protagonist of the original trilogy.</td>\n",
       "    </tr>\n",
       "    <tr>\n",
       "      <th>1</th>\n",
       "      <td>2</td>\n",
       "      <td>Leia Organa</td>\n",
       "      <td>Human</td>\n",
       "      <td>Female</td>\n",
       "      <td>1.50</td>\n",
       "      <td>49.0</td>\n",
       "      <td>Brown</td>\n",
       "      <td>Brown</td>\n",
       "      <td>Light</td>\n",
       "      <td>19.0</td>\n",
       "      <td>Alderaan</td>\n",
       "      <td>35.0</td>\n",
       "      <td>A leader in the Rebel Alliance and twin sister...</td>\n",
       "    </tr>\n",
       "    <tr>\n",
       "      <th>2</th>\n",
       "      <td>3</td>\n",
       "      <td>Darth Vader</td>\n",
       "      <td>Human</td>\n",
       "      <td>Male</td>\n",
       "      <td>2.02</td>\n",
       "      <td>136.0</td>\n",
       "      <td>NaN</td>\n",
       "      <td>Yellow</td>\n",
       "      <td>Pale</td>\n",
       "      <td>41.0</td>\n",
       "      <td>Tatooine</td>\n",
       "      <td>4.0</td>\n",
       "      <td>The Sith Lord formerly known as Anakin Skywalker.</td>\n",
       "    </tr>\n",
       "    <tr>\n",
       "      <th>3</th>\n",
       "      <td>4</td>\n",
       "      <td>Yoda</td>\n",
       "      <td>Yoda's species</td>\n",
       "      <td>Male</td>\n",
       "      <td>0.66</td>\n",
       "      <td>17.0</td>\n",
       "      <td>White</td>\n",
       "      <td>Brown</td>\n",
       "      <td>Green</td>\n",
       "      <td>896.0</td>\n",
       "      <td>Unknown</td>\n",
       "      <td>4.0</td>\n",
       "      <td>A wise and powerful Jedi Master.</td>\n",
       "    </tr>\n",
       "    <tr>\n",
       "      <th>4</th>\n",
       "      <td>5</td>\n",
       "      <td>Han Solo</td>\n",
       "      <td>Human</td>\n",
       "      <td>Male</td>\n",
       "      <td>1.80</td>\n",
       "      <td>80.0</td>\n",
       "      <td>Brown</td>\n",
       "      <td>Hazel</td>\n",
       "      <td>Light</td>\n",
       "      <td>29.0</td>\n",
       "      <td>Corellia</td>\n",
       "      <td>34.0</td>\n",
       "      <td>A smuggler turned hero in the Rebel Alliance.</td>\n",
       "    </tr>\n",
       "    <tr>\n",
       "      <th>...</th>\n",
       "      <td>...</td>\n",
       "      <td>...</td>\n",
       "      <td>...</td>\n",
       "      <td>...</td>\n",
       "      <td>...</td>\n",
       "      <td>...</td>\n",
       "      <td>...</td>\n",
       "      <td>...</td>\n",
       "      <td>...</td>\n",
       "      <td>...</td>\n",
       "      <td>...</td>\n",
       "      <td>...</td>\n",
       "      <td>...</td>\n",
       "    </tr>\n",
       "    <tr>\n",
       "      <th>91</th>\n",
       "      <td>92</td>\n",
       "      <td>Enfys Nest</td>\n",
       "      <td>Human</td>\n",
       "      <td>Female</td>\n",
       "      <td>1.68</td>\n",
       "      <td>55.0</td>\n",
       "      <td>Red</td>\n",
       "      <td>Brown</td>\n",
       "      <td>Light</td>\n",
       "      <td>19.0</td>\n",
       "      <td>Unknown</td>\n",
       "      <td>NaN</td>\n",
       "      <td>A rebel and leader of the Cloud-Riders.</td>\n",
       "    </tr>\n",
       "    <tr>\n",
       "      <th>92</th>\n",
       "      <td>93</td>\n",
       "      <td>L3-37</td>\n",
       "      <td>Droid</td>\n",
       "      <td>NaN</td>\n",
       "      <td>1.80</td>\n",
       "      <td>NaN</td>\n",
       "      <td>NaN</td>\n",
       "      <td>Green</td>\n",
       "      <td>Gray</td>\n",
       "      <td>NaN</td>\n",
       "      <td>Unknown</td>\n",
       "      <td>10.0</td>\n",
       "      <td>A self-built piloting droid.</td>\n",
       "    </tr>\n",
       "    <tr>\n",
       "      <th>93</th>\n",
       "      <td>94</td>\n",
       "      <td>Beckett</td>\n",
       "      <td>Human</td>\n",
       "      <td>Male</td>\n",
       "      <td>1.85</td>\n",
       "      <td>80.0</td>\n",
       "      <td>Brown</td>\n",
       "      <td>Blue</td>\n",
       "      <td>Light</td>\n",
       "      <td>50.0</td>\n",
       "      <td>Glee Anselm</td>\n",
       "      <td>10.0</td>\n",
       "      <td>A criminal and mentor to Han Solo.</td>\n",
       "    </tr>\n",
       "    <tr>\n",
       "      <th>94</th>\n",
       "      <td>95</td>\n",
       "      <td>Val</td>\n",
       "      <td>Human</td>\n",
       "      <td>Female</td>\n",
       "      <td>1.75</td>\n",
       "      <td>55.0</td>\n",
       "      <td>Black</td>\n",
       "      <td>Brown</td>\n",
       "      <td>Dark</td>\n",
       "      <td>30.0</td>\n",
       "      <td>Unknown</td>\n",
       "      <td>10.0</td>\n",
       "      <td>A member of Beckett's crew.</td>\n",
       "    </tr>\n",
       "    <tr>\n",
       "      <th>95</th>\n",
       "      <td>96</td>\n",
       "      <td>Rio Durant</td>\n",
       "      <td>Ardennian</td>\n",
       "      <td>Male</td>\n",
       "      <td>1.40</td>\n",
       "      <td>40.0</td>\n",
       "      <td>NaN</td>\n",
       "      <td>Black</td>\n",
       "      <td>Blue</td>\n",
       "      <td>40.0</td>\n",
       "      <td>Ardennia</td>\n",
       "      <td>10.0</td>\n",
       "      <td>A four-armed pilot in Beckett's crew.</td>\n",
       "    </tr>\n",
       "  </tbody>\n",
       "</table>\n",
       "<p>96 rows × 13 columns</p>\n",
       "</div>"
      ],
      "text/plain": [
       "    id            name         species  gender  height  weight hair_color  \\\n",
       "0    1  Luke Skywalker           Human    Male    1.72    77.0      Blond   \n",
       "1    2     Leia Organa           Human  Female    1.50    49.0      Brown   \n",
       "2    3     Darth Vader           Human    Male    2.02   136.0        NaN   \n",
       "3    4            Yoda  Yoda's species    Male    0.66    17.0      White   \n",
       "4    5        Han Solo           Human    Male    1.80    80.0      Brown   \n",
       "..  ..             ...             ...     ...     ...     ...        ...   \n",
       "91  92      Enfys Nest           Human  Female    1.68    55.0        Red   \n",
       "92  93           L3-37           Droid     NaN    1.80     NaN        NaN   \n",
       "93  94         Beckett           Human    Male    1.85    80.0      Brown   \n",
       "94  95             Val           Human  Female    1.75    55.0      Black   \n",
       "95  96      Rio Durant       Ardennian    Male    1.40    40.0        NaN   \n",
       "\n",
       "   eye_color skin_color  year_born    homeworld  year_died  \\\n",
       "0       Blue      Light       19.0     Tatooine       34.0   \n",
       "1      Brown      Light       19.0     Alderaan       35.0   \n",
       "2     Yellow       Pale       41.0     Tatooine        4.0   \n",
       "3      Brown      Green      896.0      Unknown        4.0   \n",
       "4      Hazel      Light       29.0     Corellia       34.0   \n",
       "..       ...        ...        ...          ...        ...   \n",
       "91     Brown      Light       19.0      Unknown        NaN   \n",
       "92     Green       Gray        NaN      Unknown       10.0   \n",
       "93      Blue      Light       50.0  Glee Anselm       10.0   \n",
       "94     Brown       Dark       30.0      Unknown       10.0   \n",
       "95     Black       Blue       40.0     Ardennia       10.0   \n",
       "\n",
       "                                          description  \n",
       "0       The main protagonist of the original trilogy.  \n",
       "1   A leader in the Rebel Alliance and twin sister...  \n",
       "2   The Sith Lord formerly known as Anakin Skywalker.  \n",
       "3                    A wise and powerful Jedi Master.  \n",
       "4       A smuggler turned hero in the Rebel Alliance.  \n",
       "..                                                ...  \n",
       "91            A rebel and leader of the Cloud-Riders.  \n",
       "92                       A self-built piloting droid.  \n",
       "93                 A criminal and mentor to Han Solo.  \n",
       "94                        A member of Beckett's crew.  \n",
       "95              A four-armed pilot in Beckett's crew.  \n",
       "\n",
       "[96 rows x 13 columns]"
      ]
     },
     "execution_count": 4,
     "metadata": {},
     "output_type": "execute_result"
    }
   ],
   "source": [
    "data=pd.read_csv('data/starwars-characters.csv')\n",
    "data"
   ]
  },
  {
   "cell_type": "code",
   "execution_count": 27,
   "id": "b93e8cc5-a7f6-444a-9102-29f15c5357d3",
   "metadata": {},
   "outputs": [],
   "source": [
    "gender=data['gender'].values\n",
    "planets=Counter()\n",
    "planets.update(data['homeworld'])\n",
    "planet_count=[]\n",
    "planet_name=[]\n",
    "for i in planets.most_common(10):\n",
    "    planet_count.append(i[1])\n",
    "    planet_name.append(i[0])\n",
    "\n"
   ]
  },
  {
   "cell_type": "code",
   "execution_count": 24,
   "id": "808ea75f-0af9-4149-b60e-975351a17415",
   "metadata": {},
   "outputs": [
    {
     "data": {
      "text/plain": [
       "Text(0.5, 1.0, 'Most popular Star Wars planets')"
      ]
     },
     "execution_count": 24,
     "metadata": {},
     "output_type": "execute_result"
    },
    {
     "data": {
      "image/png": "[encoded data removed]",
      "text/plain": [
       "<Figure size 640x480 with 1 Axes>"
      ]
     },
     "metadata": {},
     "output_type": "display_data"
    }
   ],
   "source": [
    "plt.barh(planet_name,planet_count,color='#444444')\n",
    "plt.xlabel('Number of characters')\n",
    "plt.title('Most popular Star Wars planets')"
   ]
  },
  {
   "cell_type": "code",
   "execution_count": 76,
   "id": "374bec4c-86e1-456f-b523-f234f62d0369",
   "metadata": {},
   "outputs": [
    {
     "data": {
      "text/plain": [
       "gender\n",
       "Male      33\n",
       "Female    12\n",
       "Name: count, dtype: int64"
      ]
     },
     "execution_count": 76,
     "metadata": {},
     "output_type": "execute_result"
    }
   ],
   "source": [
    "gender_counts=data['gender'].value_counts().values\n",
    "hair=data['hair_color'].value_counts()\n",
    "hair_counts=data.loc[(data['hair_color']=='Brown') | (data['hair_color']=='Black') ,'gender'].value_counts()\n",
    "hair_counts"
   ]
  },
  {
   "cell_type": "code",
   "execution_count": 87,
   "id": "cc345d25-1859-4034-ba53-176128318e7e",
   "metadata": {},
   "outputs": [
    {
     "data": {
      "text/plain": [
       "Text(0.5, 1.0, 'Gender and hair color splitup in star wars')"
      ]
     },
     "execution_count": 87,
     "metadata": {},
     "output_type": "execute_result"
    },
    {
     "data": {
      "image/png": "[encoded data removed]",
      "text/plain": [
       "<Figure size 640x480 with 1 Axes>"
      ]
     },
     "metadata": {},
     "output_type": "display_data"
    }
   ],
   "source": [
    "plt.bar(['Male','Female'],gender_counts,color='#444444',width=0.5)\n",
    "plt.bar(['Brown','Black'],hair_counts,width=0.5)\n",
    "plt.grid()\n",
    "plt.ylabel('Number of characters')\n",
    "plt.title('Gender and hair color splitup in star wars')"
   ]
  },
  {
   "cell_type": "code",
   "execution_count": 91,
   "id": "f348dbdd-49d0-44b7-81bd-91f7b5afd044",
   "metadata": {},
   "outputs": [
    {
     "data": {
      "text/plain": [
       "array([18, 15], dtype=int64)"
      ]
     },
     "execution_count": 91,
     "metadata": {},
     "output_type": "execute_result"
    }
   ],
   "source": [
    "hair_colors=['Black','Brown']\n",
    "genders=['Male','Female']\n",
    "male_hair_counts=data.loc[(data['gender']=='Male') & data['hair_color'].isin(hair_colors),'hair_color'].value_counts().values\n",
    "\n",
    "female_hair_counts=data.loc[(data['gender']=='Female') & data['hair_color'].isin(hair_colors),'hair_color'].value_counts().values\n",
    "male_hair_counts"
   ]
  },
  {
   "cell_type": "code",
   "execution_count": 105,
   "id": "25cf4d73-6d2b-4c39-9f85-0bdcb9ef78bc",
   "metadata": {},
   "outputs": [
    {
     "data": {
      "text/plain": [
       "Text(0.5, 1.0, 'Grouped Bar Chart')"
      ]
     },
     "execution_count": 105,
     "metadata": {},
     "output_type": "execute_result"
    },
    {
     "data": {
      "image/png": "[encoded data removed]",
      "text/plain": [
       "<Figure size 640x480 with 1 Axes>"
      ]
     },
     "metadata": {},
     "output_type": "display_data"
    }
   ],
   "source": [
    "bar1=np.arange(len(genders))\n",
    "width=0.25\n",
    "plt.bar(bar1-width/2,male_hair_counts,width=0.25,label=\"male\")\n",
    "plt.bar(bar1+width/2, female_hair_counts,width=0.25,color='#444444',label='female')\n",
    "plt.xticks(ticks=bar1,labels=hair_colors) #to fix the labels\n",
    "plt.legend()\n",
    "plt.title('Grouped Bar Chart')"
   ]
  },
  {
   "cell_type": "code",
   "execution_count": 115,
   "id": "27678ad2-aba7-4846-8ee0-fa7f3b09746b",
   "metadata": {},
   "outputs": [
    {
     "data": {
      "text/plain": [
       "Text(0.5, 1.0, 'Histogram of heights')"
      ]
     },
     "execution_count": 115,
     "metadata": {},
     "output_type": "execute_result"
    },
    {
     "data": {
      "image/png": "[encoded data removed]",
      "text/plain": [
       "<Figure size 640x480 with 1 Axes>"
      ]
     },
     "metadata": {},
     "output_type": "display_data"
    }
   ],
   "source": [
    "bins=[0.6,0.9,1.2,1.5,1.8,2.1]\n",
    "plt.hist(data['height'].values,bins=bins,edgecolor='black',color='#FFA500')\n",
    "plt.title('Histogram of heights')"
   ]
  },
  {
   "cell_type": "code",
   "execution_count": null,
   "id": "87896e72-20a3-4437-a213-be28a639162d",
   "metadata": {},
   "outputs": [],
   "source": []
  }
 ],
 "metadata": {
  "kernelspec": {
   "display_name": "Python 3 (ipykernel)",
   "language": "python",
   "name": "python3"
  },
  "language_info": {
   "codemirror_mode": {
    "name": "ipython",
    "version": 3
   },
   "file_extension": ".py",
   "mimetype": "text/x-python",
   "name": "python",
   "nbconvert_exporter": "python",
   "pygments_lexer": "ipython3",
   "version": "3.11.9"
  }
 },
 "nbformat": 4,
 "nbformat_minor": 5
}
